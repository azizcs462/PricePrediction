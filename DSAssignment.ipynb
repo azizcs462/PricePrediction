{
 "cells": [
  {
   "cell_type": "markdown",
   "id": "adf84f39-7bc4-4576-9e03-8401a54f51b3",
   "metadata": {},
   "source": [
    "## <font color='Green'>1.Importing Libraries</h2></font>\n"
   ]
  },
  {
   "cell_type": "code",
   "execution_count": 487,
   "id": "c63ed758-f0cc-4213-b2d4-a453b503b7f5",
   "metadata": {},
   "outputs": [],
   "source": [
    "import pandas as pd\n",
    "import numpy as np\n",
    "import matplotlib.pyplot as plt\n",
    "from sklearn.linear_model import LinearRegression\n",
    "from sklearn.model_selection import train_test_split\n",
    "from sklearn.preprocessing import StandardScaler, OneHotEncoder, OrdinalEncoder\n",
    "\n"
   ]
  },
  {
   "cell_type": "markdown",
   "id": "efe353c1-d87c-4839-a4f9-7423e5b89a2d",
   "metadata": {},
   "source": [
    "## <font color='Green'>2.Data Reading</h2></font>\n"
   ]
  },
  {
   "cell_type": "code",
   "execution_count": 490,
   "id": "b385ecb6-5f24-41b5-9442-fcee80c13ed9",
   "metadata": {},
   "outputs": [
    {
     "data": {
      "text/html": [
       "<div>\n",
       "<style scoped>\n",
       "    .dataframe tbody tr th:only-of-type {\n",
       "        vertical-align: middle;\n",
       "    }\n",
       "\n",
       "    .dataframe tbody tr th {\n",
       "        vertical-align: top;\n",
       "    }\n",
       "\n",
       "    .dataframe thead th {\n",
       "        text-align: right;\n",
       "    }\n",
       "</style>\n",
       "<table border=\"1\" class=\"dataframe\">\n",
       "  <thead>\n",
       "    <tr style=\"text-align: right;\">\n",
       "      <th></th>\n",
       "      <th>neighbourhood</th>\n",
       "      <th>price</th>\n",
       "      <th>size</th>\n",
       "      <th>bedrooms</th>\n",
       "      <th>bathrooms</th>\n",
       "      <th>building</th>\n",
       "    </tr>\n",
       "  </thead>\n",
       "  <tbody>\n",
       "    <tr>\n",
       "      <th>0</th>\n",
       "      <td>SNR</td>\n",
       "      <td>130000.0</td>\n",
       "      <td>1300.0</td>\n",
       "      <td>2</td>\n",
       "      <td>3.0</td>\n",
       "      <td>Building_263</td>\n",
       "    </tr>\n",
       "    <tr>\n",
       "      <th>1</th>\n",
       "      <td>ZMS</td>\n",
       "      <td>140000.0</td>\n",
       "      <td>1185.0</td>\n",
       "      <td>1</td>\n",
       "      <td>2.0</td>\n",
       "      <td>Building_25</td>\n",
       "    </tr>\n",
       "    <tr>\n",
       "      <th>2</th>\n",
       "      <td>ZMS</td>\n",
       "      <td>250000.0</td>\n",
       "      <td>2050.0</td>\n",
       "      <td>3</td>\n",
       "      <td>5.0</td>\n",
       "      <td>Building_324</td>\n",
       "    </tr>\n",
       "    <tr>\n",
       "      <th>3</th>\n",
       "      <td>ZMS</td>\n",
       "      <td>250000.0</td>\n",
       "      <td>3860.0</td>\n",
       "      <td>4</td>\n",
       "      <td>5.0</td>\n",
       "      <td>Building_353</td>\n",
       "    </tr>\n",
       "    <tr>\n",
       "      <th>4</th>\n",
       "      <td>SNR</td>\n",
       "      <td>170000.0</td>\n",
       "      <td>1896.0</td>\n",
       "      <td>3</td>\n",
       "      <td>4.0</td>\n",
       "      <td>Building_280</td>\n",
       "    </tr>\n",
       "  </tbody>\n",
       "</table>\n",
       "</div>"
      ],
      "text/plain": [
       "  neighbourhood     price    size  bedrooms  bathrooms      building\n",
       "0           SNR  130000.0  1300.0         2        3.0  Building_263\n",
       "1           ZMS  140000.0  1185.0         1        2.0   Building_25\n",
       "2           ZMS  250000.0  2050.0         3        5.0  Building_324\n",
       "3           ZMS  250000.0  3860.0         4        5.0  Building_353\n",
       "4           SNR  170000.0  1896.0         3        4.0  Building_280"
      ]
     },
     "execution_count": 490,
     "metadata": {},
     "output_type": "execute_result"
    }
   ],
   "source": [
    "dataset = pd.read_csv('data_science_challenge_data.csv')\n",
    "dataset.head()"
   ]
  },
  {
   "cell_type": "code",
   "execution_count": 492,
   "id": "174a916f-b62e-4887-adeb-ce445640b11a",
   "metadata": {},
   "outputs": [
    {
     "name": "stdout",
     "output_type": "stream",
     "text": [
      "Index(['neighbourhood', 'price', 'size', 'bedrooms', 'bathrooms', 'building'], dtype='object')\n"
     ]
    }
   ],
   "source": [
    "print(dataset.columns)"
   ]
  },
  {
   "cell_type": "code",
   "execution_count": 494,
   "id": "6cb150d0-63e5-442e-a605-241e538db3b7",
   "metadata": {},
   "outputs": [
    {
     "data": {
      "text/html": [
       "<div>\n",
       "<style scoped>\n",
       "    .dataframe tbody tr th:only-of-type {\n",
       "        vertical-align: middle;\n",
       "    }\n",
       "\n",
       "    .dataframe tbody tr th {\n",
       "        vertical-align: top;\n",
       "    }\n",
       "\n",
       "    .dataframe thead th {\n",
       "        text-align: right;\n",
       "    }\n",
       "</style>\n",
       "<table border=\"1\" class=\"dataframe\">\n",
       "  <thead>\n",
       "    <tr style=\"text-align: right;\">\n",
       "      <th></th>\n",
       "      <th>count</th>\n",
       "      <th>mean</th>\n",
       "      <th>std</th>\n",
       "      <th>min</th>\n",
       "      <th>25%</th>\n",
       "      <th>50%</th>\n",
       "      <th>75%</th>\n",
       "      <th>max</th>\n",
       "    </tr>\n",
       "  </thead>\n",
       "  <tbody>\n",
       "    <tr>\n",
       "      <th>price</th>\n",
       "      <td>67107.0</td>\n",
       "      <td>219911.781497</td>\n",
       "      <td>5.882342e+06</td>\n",
       "      <td>22000.0</td>\n",
       "      <td>99000.0</td>\n",
       "      <td>130000.0</td>\n",
       "      <td>165000.0</td>\n",
       "      <td>565352964.0</td>\n",
       "    </tr>\n",
       "    <tr>\n",
       "      <th>size</th>\n",
       "      <td>67107.0</td>\n",
       "      <td>1621.593040</td>\n",
       "      <td>9.049481e+03</td>\n",
       "      <td>-755.0</td>\n",
       "      <td>840.0</td>\n",
       "      <td>1200.0</td>\n",
       "      <td>1637.0</td>\n",
       "      <td>1170000.0</td>\n",
       "    </tr>\n",
       "    <tr>\n",
       "      <th>bedrooms</th>\n",
       "      <td>67107.0</td>\n",
       "      <td>1.654969</td>\n",
       "      <td>1.008304e+00</td>\n",
       "      <td>0.0</td>\n",
       "      <td>1.0</td>\n",
       "      <td>2.0</td>\n",
       "      <td>2.0</td>\n",
       "      <td>12.0</td>\n",
       "    </tr>\n",
       "    <tr>\n",
       "      <th>bathrooms</th>\n",
       "      <td>63657.0</td>\n",
       "      <td>2.403066</td>\n",
       "      <td>1.077319e+00</td>\n",
       "      <td>1.0</td>\n",
       "      <td>2.0</td>\n",
       "      <td>2.0</td>\n",
       "      <td>3.0</td>\n",
       "      <td>12.0</td>\n",
       "    </tr>\n",
       "  </tbody>\n",
       "</table>\n",
       "</div>"
      ],
      "text/plain": [
       "             count           mean           std      min      25%       50%  \\\n",
       "price      67107.0  219911.781497  5.882342e+06  22000.0  99000.0  130000.0   \n",
       "size       67107.0    1621.593040  9.049481e+03   -755.0    840.0    1200.0   \n",
       "bedrooms   67107.0       1.654969  1.008304e+00      0.0      1.0       2.0   \n",
       "bathrooms  63657.0       2.403066  1.077319e+00      1.0      2.0       2.0   \n",
       "\n",
       "                75%          max  \n",
       "price      165000.0  565352964.0  \n",
       "size         1637.0    1170000.0  \n",
       "bedrooms        2.0         12.0  \n",
       "bathrooms       3.0         12.0  "
      ]
     },
     "execution_count": 494,
     "metadata": {},
     "output_type": "execute_result"
    }
   ],
   "source": [
    "dataset.describe().T\n"
   ]
  },
  {
   "cell_type": "markdown",
   "id": "f060536b-eb39-4297-97d8-38c918a2f10f",
   "metadata": {},
   "source": [
    "## <font color='Green'>3.Target Value Analysis(Price)</h2></font>\n"
   ]
  },
  {
   "cell_type": "code",
   "execution_count": 497,
   "id": "77970fff-829d-4777-af83-cf8b466086da",
   "metadata": {},
   "outputs": [
    {
     "name": "stdout",
     "output_type": "stream",
     "text": [
      "\n",
      "Skewness of SalePrice: 89.90\n"
     ]
    },
    {
     "data": {
      "image/png": "[encoded data removed]",
      "text/plain": [
       "<Figure size 1000x600 with 1 Axes>"
      ]
     },
     "metadata": {},
     "output_type": "display_data"
    },
    {
     "name": "stdout",
     "output_type": "stream",
     "text": [
      "Skewness of Log-Transformed SalePrice: 2.36\n"
     ]
    },
    {
     "data": {
      "image/png": "[encoded data removed]",
      "text/plain": [
       "<Figure size 1000x600 with 1 Axes>"
      ]
     },
     "metadata": {},
     "output_type": "display_data"
    }
   ],
   "source": [
    "# Analyze the target variable 'price'\n",
    "plt.figure(figsize=(10, 6))\n",
    "plt.plot(dataset['price'])\n",
    "plt.title('Distribution of price')\n",
    "plt.xlabel('Sale Price')\n",
    "print(f\"\\nSkewness of SalePrice: {dataset['price'].skew():.2f}\") # Check skewness\n",
    "plt.show()\n",
    "\n",
    "\n",
    "\n",
    "\n",
    "# Apply log transformation to SalePrice to reduce skewness (common practice)\n",
    "dataset['SalePrice'] = np.log1p(dataset['price']) # log1p handles potential 0 values safely\n",
    "\n",
    "plt.figure(figsize=(10, 6))\n",
    "sns.histplot(dataset['SalePrice'], kde=True)\n",
    "plt.title('Distribution of Log-Transformed SalePrice (SalePrice)')\n",
    "plt.xlabel('Log(Sale Price + 1)')\n",
    "print(f\"Skewness of Log-Transformed SalePrice: {dataset['SalePrice'].skew():.2f}\") # Check skewness after transform\n",
    "plt.show()\n",
    "# Much better distribution after log transformation. We'll predict this log value.\n",
    "\n"
   ]
  },
  {
   "cell_type": "code",
   "execution_count": 498,
   "id": "7a13fa7c-8832-4c2c-b160-c04cb4f7c8c8",
   "metadata": {},
   "outputs": [
    {
     "data": {
      "text/plain": [
       "20.152960810870557"
      ]
     },
     "execution_count": 498,
     "metadata": {},
     "output_type": "execute_result"
    }
   ],
   "source": [
    "dataset['SalePrice'].max()"
   ]
  },
  {
   "cell_type": "code",
   "execution_count": 499,
   "id": "c3b130f9-e48c-4d64-9220-428ceead997a",
   "metadata": {},
   "outputs": [
    {
     "data": {
      "text/plain": [
       "price\n",
       "130000.0    3133\n",
       "120000.0    2920\n",
       "100000.0    2602\n",
       "90000.0     2421\n",
       "95000.0     2381\n",
       "            ... \n",
       "76999.0        1\n",
       "76500.0        1\n",
       "96500.0        1\n",
       "257268.0       1\n",
       "207000.0       1\n",
       "Name: count, Length: 943, dtype: int64"
      ]
     },
     "execution_count": 499,
     "metadata": {},
     "output_type": "execute_result"
    }
   ],
   "source": [
    "dataset['price'].value_counts()"
   ]
  },
  {
   "cell_type": "code",
   "execution_count": 500,
   "id": "f4202764-f56c-4159-bb46-76d734c902a0",
   "metadata": {},
   "outputs": [
    {
     "data": {
      "text/plain": [
       "(67107, 7)"
      ]
     },
     "execution_count": 500,
     "metadata": {},
     "output_type": "execute_result"
    }
   ],
   "source": [
    "dataset.shape"
   ]
  },
  {
   "cell_type": "code",
   "execution_count": 505,
   "id": "bd97e66f-14a3-45ee-8978-f12ffa4ecfa9",
   "metadata": {},
   "outputs": [
    {
     "data": {
      "text/plain": [
       "SalePrice\n",
       "11.775297    3133\n",
       "11.695255    2920\n",
       "11.512935    2602\n",
       "11.407576    2421\n",
       "11.461643    2381\n",
       "             ... \n",
       "11.251561       1\n",
       "11.245059       1\n",
       "11.477309       1\n",
       "12.457878       1\n",
       "12.240479       1\n",
       "Name: count, Length: 943, dtype: int64"
      ]
     },
     "execution_count": 505,
     "metadata": {},
     "output_type": "execute_result"
    }
   ],
   "source": [
    "dataset['SalePrice'].value_counts()"
   ]
  },
  {
   "cell_type": "markdown",
   "id": "e6411560-9fc3-4122-9c42-ab6fa4b2ce8f",
   "metadata": {},
   "source": [
    "## <font color='Red'>4.Missing Value Analysis¶</h2></font>\n"
   ]
  },
  {
   "cell_type": "code",
   "execution_count": 508,
   "id": "bda45992-07fc-4d8b-9e30-7d909c847088",
   "metadata": {},
   "outputs": [
    {
     "name": "stdout",
     "output_type": "stream",
     "text": [
      "\n",
      "--- Features with Missing Values ---\n",
      "           Missing Count  Percentage (%)\n",
      "building            6039        8.999061\n",
      "bathrooms           3450        5.141043\n"
     ]
    }
   ],
   "source": [
    "# Check for missing values\n",
    "missing = dataset.isnull().sum().sort_values(ascending=False)\n",
    "missing = missing[missing > 0] # Filter only columns with missing values\n",
    "missing_perc = (missing / len(dataset)) * 100\n",
    "\n",
    "missing_data = pd.DataFrame({'Missing Count': missing, 'Percentage (%)': missing_perc})\n",
    "print(\"\\n--- Features with Missing Values ---\")\n",
    "print(missing_data.head(20)) # Show top 20 features with missing values\n"
   ]
  },
  {
   "cell_type": "code",
   "execution_count": 510,
   "id": "2eae962b-98ae-40cb-80d8-f175741ac44e",
   "metadata": {},
   "outputs": [
    {
     "data": {
      "image/png": "[encoded data removed]",
      "text/plain": [
       "<Figure size 1000x600 with 1 Axes>"
      ]
     },
     "metadata": {},
     "output_type": "display_data"
    }
   ],
   "source": [
    "plt.figure(figsize=(10, 6))\n",
    "\n",
    "plt.bar(missing_data.index,missing_data['Percentage (%)'],label='bar')\n",
    "plt.title('Top 3 Features with Missing Data (%)')\n",
    "plt.ylabel('Percentage (%)')\n",
    "plt.show()"
   ]
  },
  {
   "cell_type": "markdown",
   "id": "d2e1e257-4fa6-4b03-9183-119b241c0c97",
   "metadata": {},
   "source": [
    "## <font color='Red'>5.Feature Correlations¶</h2></font>\n"
   ]
  },
  {
   "cell_type": "code",
   "execution_count": null,
   "id": "4583e673-9f0e-4bb2-a3cd-f6a67e9807bf",
   "metadata": {},
   "outputs": [],
   "source": []
  },
  {
   "cell_type": "code",
   "execution_count": null,
   "id": "6f3576d7-5af9-45ba-9cec-bbc55ed13465",
   "metadata": {},
   "outputs": [],
   "source": []
  },
  {
   "cell_type": "code",
   "execution_count": null,
   "id": "a61cd8cb-69c3-4755-928d-2732d201a174",
   "metadata": {},
   "outputs": [],
   "source": []
  },
  {
   "cell_type": "code",
   "execution_count": 516,
   "id": "ac909050-457c-4093-8cbc-3214b4796a8d",
   "metadata": {},
   "outputs": [
    {
     "data": {
      "image/png": "[encoded data removed]",
      "text/plain": [
       "<Figure size 1000x600 with 2 Axes>"
      ]
     },
     "metadata": {},
     "output_type": "display_data"
    }
   ],
   "source": [
    "# Explore correlations with the target variable (Log Transformed)\n",
    "# Select only numerical features for correlation matrix (including the log target)\n",
    "numeric_cols = dataset.select_dtypes(include=np.number).columns.tolist()\n",
    "corrmat = dataset[numeric_cols].corr() # Use df_train as it now contains SalePrice_Log\n",
    "nominal_cols = [col for col in categorical_cols]\n",
    "\n",
    "\n",
    "# Find correlations with SalePrice_Log, sort them\n",
    "k = 5 # Number of top correlations to show\n",
    "cols = corrmat.nlargest(k, 'SalePrice')['SalePrice'].index\n",
    "cm = np.corrcoef(dataset[cols].values.T)\n",
    "\n",
    "plt.figure(figsize=(10, 6))\n",
    "sns.heatmap(cm, annot=True, square=True, fmt='.2f', cmap='coolwarm',\n",
    "            yticklabels=cols.values, xticklabels=cols.values)\n",
    "plt.title(f'Top {k-1} Correlated Features with SalePrice')\n",
    "plt.show()"
   ]
  },
  {
   "cell_type": "markdown",
   "id": "3919e016-9767-4f92-8914-8b5f5185c3f6",
   "metadata": {},
   "source": [
    "## <font color = 'red'>6.Preprocessing</font>"
   ]
  },
  {
   "cell_type": "code",
   "execution_count": 519,
   "id": "382cb2bf-9fff-482e-a0a7-c0bf375180f4",
   "metadata": {},
   "outputs": [
    {
     "name": "stdout",
     "output_type": "stream",
     "text": [
      "Shape of features X before preprocessing: (67107, 5)\n"
     ]
    }
   ],
   "source": [
    "# Define target (using log-transformed price) and features\n",
    "y = dataset['SalePrice']\n",
    "X = dataset.drop(['price', 'SalePrice'], axis=1)\n",
    "\n",
    "print(f\"Shape of features X before preprocessing: {X.shape}\")\n",
    "\n",
    "# Identify numerical and categorical columns\n",
    "numerical_cols = X.select_dtypes(include=np.number).columns.tolist()\n",
    "categorical_cols = X.select_dtypes(include='object').columns.tolist()"
   ]
  },
  {
   "cell_type": "code",
   "execution_count": 521,
   "id": "7c766b48-8059-4523-a0e1-dab89dfc58e6",
   "metadata": {},
   "outputs": [
    {
     "data": {
      "text/plain": [
       "['size', 'bedrooms', 'bathrooms']"
      ]
     },
     "execution_count": 521,
     "metadata": {},
     "output_type": "execute_result"
    }
   ],
   "source": [
    "numerical_cols"
   ]
  },
  {
   "cell_type": "code",
   "execution_count": 523,
   "id": "feb93c50-1d6f-43a1-a825-d75f61469376",
   "metadata": {},
   "outputs": [
    {
     "data": {
      "text/plain": [
       "['neighbourhood', 'building']"
      ]
     },
     "execution_count": 523,
     "metadata": {},
     "output_type": "execute_result"
    }
   ],
   "source": [
    "categorical_cols"
   ]
  },
  {
   "cell_type": "code",
   "execution_count": 525,
   "id": "4ef53443-1c60-4ee9-b24b-487af4c4d064",
   "metadata": {},
   "outputs": [
    {
     "data": {
      "text/plain": [
       "neighbourhood       0\n",
       "size                0\n",
       "bedrooms            0\n",
       "bathrooms        3450\n",
       "building         6039\n",
       "dtype: int64"
      ]
     },
     "execution_count": 525,
     "metadata": {},
     "output_type": "execute_result"
    }
   ],
   "source": [
    "X.isna().sum()"
   ]
  },
  {
   "cell_type": "code",
   "execution_count": 527,
   "id": "17f2b7dc-8d29-4af6-b8ee-48cf79dabe20",
   "metadata": {},
   "outputs": [],
   "source": [
    "cat_na_means_none = ['bathrooms', 'building']"
   ]
  },
  {
   "cell_type": "code",
   "execution_count": 529,
   "id": "173fce7f-b1bd-4d11-a442-c2418f22458c",
   "metadata": {},
   "outputs": [
    {
     "data": {
      "text/plain": [
       "['bathrooms', 'building']"
      ]
     },
     "execution_count": 529,
     "metadata": {},
     "output_type": "execute_result"
    }
   ],
   "source": [
    "cat_na_means_none"
   ]
  },
  {
   "cell_type": "code",
   "execution_count": 531,
   "id": "6a1f38c0-14b5-4638-a464-427977583df2",
   "metadata": {},
   "outputs": [
    {
     "data": {
      "text/plain": [
       "building\n",
       "Building_101    1672\n",
       "Building_320    1487\n",
       "Building_197    1376\n",
       "Building_163    1178\n",
       "Building_98     1034\n",
       "                ... \n",
       "Building_222       1\n",
       "Building_294       1\n",
       "Building_81        1\n",
       "Building_327       1\n",
       "Building_86        1\n",
       "Name: count, Length: 353, dtype: int64"
      ]
     },
     "execution_count": 531,
     "metadata": {},
     "output_type": "execute_result"
    }
   ],
   "source": [
    "dataset.building.value_counts()"
   ]
  },
  {
   "cell_type": "code",
   "execution_count": 533,
   "id": "cfc81804-5d2c-48f9-a41b-706776114204",
   "metadata": {},
   "outputs": [],
   "source": [
    "X['bathrooms'].fillna(X['bathrooms'].median(), inplace=True)\n"
   ]
  },
  {
   "cell_type": "code",
   "execution_count": 535,
   "id": "7474344e-8103-4fc0-ae09-7ffe32aaf48a",
   "metadata": {},
   "outputs": [
    {
     "data": {
      "text/html": [
       "<div>\n",
       "<style scoped>\n",
       "    .dataframe tbody tr th:only-of-type {\n",
       "        vertical-align: middle;\n",
       "    }\n",
       "\n",
       "    .dataframe tbody tr th {\n",
       "        vertical-align: top;\n",
       "    }\n",
       "\n",
       "    .dataframe thead th {\n",
       "        text-align: right;\n",
       "    }\n",
       "</style>\n",
       "<table border=\"1\" class=\"dataframe\">\n",
       "  <thead>\n",
       "    <tr style=\"text-align: right;\">\n",
       "      <th></th>\n",
       "      <th>neighbourhood</th>\n",
       "      <th>size</th>\n",
       "      <th>bedrooms</th>\n",
       "      <th>bathrooms</th>\n",
       "      <th>building</th>\n",
       "    </tr>\n",
       "  </thead>\n",
       "  <tbody>\n",
       "    <tr>\n",
       "      <th>0</th>\n",
       "      <td>SNR</td>\n",
       "      <td>1300.0</td>\n",
       "      <td>2</td>\n",
       "      <td>3.0</td>\n",
       "      <td>Building_263</td>\n",
       "    </tr>\n",
       "    <tr>\n",
       "      <th>1</th>\n",
       "      <td>ZMS</td>\n",
       "      <td>1185.0</td>\n",
       "      <td>1</td>\n",
       "      <td>2.0</td>\n",
       "      <td>Building_25</td>\n",
       "    </tr>\n",
       "    <tr>\n",
       "      <th>2</th>\n",
       "      <td>ZMS</td>\n",
       "      <td>2050.0</td>\n",
       "      <td>3</td>\n",
       "      <td>5.0</td>\n",
       "      <td>Building_324</td>\n",
       "    </tr>\n",
       "    <tr>\n",
       "      <th>3</th>\n",
       "      <td>ZMS</td>\n",
       "      <td>3860.0</td>\n",
       "      <td>4</td>\n",
       "      <td>5.0</td>\n",
       "      <td>Building_353</td>\n",
       "    </tr>\n",
       "    <tr>\n",
       "      <th>4</th>\n",
       "      <td>SNR</td>\n",
       "      <td>1896.0</td>\n",
       "      <td>3</td>\n",
       "      <td>4.0</td>\n",
       "      <td>Building_280</td>\n",
       "    </tr>\n",
       "    <tr>\n",
       "      <th>...</th>\n",
       "      <td>...</td>\n",
       "      <td>...</td>\n",
       "      <td>...</td>\n",
       "      <td>...</td>\n",
       "      <td>...</td>\n",
       "    </tr>\n",
       "    <tr>\n",
       "      <th>67102</th>\n",
       "      <td>ZMS</td>\n",
       "      <td>830.0</td>\n",
       "      <td>1</td>\n",
       "      <td>2.0</td>\n",
       "      <td>Building_69</td>\n",
       "    </tr>\n",
       "    <tr>\n",
       "      <th>67103</th>\n",
       "      <td>ZMS</td>\n",
       "      <td>923.0</td>\n",
       "      <td>1</td>\n",
       "      <td>2.0</td>\n",
       "      <td>Building_320</td>\n",
       "    </tr>\n",
       "    <tr>\n",
       "      <th>67104</th>\n",
       "      <td>ZMS</td>\n",
       "      <td>1196.0</td>\n",
       "      <td>2</td>\n",
       "      <td>3.0</td>\n",
       "      <td>Building_240</td>\n",
       "    </tr>\n",
       "    <tr>\n",
       "      <th>67105</th>\n",
       "      <td>ZMS</td>\n",
       "      <td>922.0</td>\n",
       "      <td>1</td>\n",
       "      <td>2.0</td>\n",
       "      <td>NaN</td>\n",
       "    </tr>\n",
       "    <tr>\n",
       "      <th>67106</th>\n",
       "      <td>ZMS</td>\n",
       "      <td>845.0</td>\n",
       "      <td>1</td>\n",
       "      <td>1.0</td>\n",
       "      <td>NaN</td>\n",
       "    </tr>\n",
       "  </tbody>\n",
       "</table>\n",
       "<p>67107 rows × 5 columns</p>\n",
       "</div>"
      ],
      "text/plain": [
       "      neighbourhood    size  bedrooms  bathrooms      building\n",
       "0               SNR  1300.0         2        3.0  Building_263\n",
       "1               ZMS  1185.0         1        2.0   Building_25\n",
       "2               ZMS  2050.0         3        5.0  Building_324\n",
       "3               ZMS  3860.0         4        5.0  Building_353\n",
       "4               SNR  1896.0         3        4.0  Building_280\n",
       "...             ...     ...       ...        ...           ...\n",
       "67102           ZMS   830.0         1        2.0   Building_69\n",
       "67103           ZMS   923.0         1        2.0  Building_320\n",
       "67104           ZMS  1196.0         2        3.0  Building_240\n",
       "67105           ZMS   922.0         1        2.0           NaN\n",
       "67106           ZMS   845.0         1        1.0           NaN\n",
       "\n",
       "[67107 rows x 5 columns]"
      ]
     },
     "execution_count": 535,
     "metadata": {},
     "output_type": "execute_result"
    }
   ],
   "source": [
    "X"
   ]
  },
  {
   "cell_type": "code",
   "execution_count": 537,
   "id": "e3353630-c4fd-4e69-a531-437c74c946c3",
   "metadata": {},
   "outputs": [],
   "source": [
    "X['building'].fillna(X['building'].mode()[0], inplace=True)\n"
   ]
  },
  {
   "cell_type": "code",
   "execution_count": 539,
   "id": "f32eb76f-8c7d-430b-99df-6e3de43ae58e",
   "metadata": {},
   "outputs": [],
   "source": [
    "numerical_transformer = Pipeline(steps=[\n",
    "    ('scaler', StandardScaler())\n",
    "])\n",
    "\n",
    "\n",
    "\n",
    "nominal_transformer = Pipeline(steps=[\n",
    "    ('onehot', OneHotEncoder(handle_unknown='ignore', sparse_output=False)) # handle_unknown='ignore' drops unseen categories\n",
    "])\n",
    "\n",
    "# Create the ColumnTransformer\n",
    "preprocessor = ColumnTransformer(\n",
    "    transformers=[\n",
    "        ('num', numerical_transformer, numerical_cols),\n",
    "        ('nom', nominal_transformer, nominal_cols)\n",
    "    ],\n",
    "    remainder='passthrough' # Keep any columns not specified (shouldn't be any if lists are correct)\n",
    ")"
   ]
  },
  {
   "cell_type": "code",
   "execution_count": 541,
   "id": "41d69769-27b3-4cd5-be5c-5d5d54108e45",
   "metadata": {},
   "outputs": [
    {
     "name": "stdout",
     "output_type": "stream",
     "text": [
      "X_train shape: (53685, 5)\n",
      "X_val shape: (13422, 5)\n"
     ]
    }
   ],
   "source": [
    "X_train, X_test, y_train, y_test = train_test_split(X, y, test_size=0.2, random_state=42)\n",
    "\n",
    "print(f\"X_train shape: {X_train.shape}\")\n",
    "print(f\"X_val shape: {X_test.shape}\")\n",
    "\n",
    "# Now fit the preprocessor on the training data and transform both sets\n",
    "X_train_processed = preprocessor.fit_transform(X_train)\n",
    "X_test_processed = preprocessor.transform(X_test)"
   ]
  },
  {
   "cell_type": "code",
   "execution_count": 543,
   "id": "be1877cb-2877-493a-8bb4-e5d8b59341df",
   "metadata": {},
   "outputs": [
    {
     "data": {
      "text/plain": [
       "array([[-0.00890805,  0.34397375,  0.58740414, ...,  0.        ,\n",
       "         0.        ,  0.        ],\n",
       "       [ 0.09924622,  2.33612339,  2.48835002, ...,  0.        ,\n",
       "         0.        ,  0.        ],\n",
       "       [-0.06885641,  0.34397375,  0.58740414, ...,  0.        ,\n",
       "         0.        ,  0.        ],\n",
       "       ...,\n",
       "       [-0.05319979,  0.34397375, -0.3630688 , ...,  0.        ,\n",
       "         0.        ,  0.        ],\n",
       "       [-0.11706231, -1.64817588, -1.31354174, ...,  0.        ,\n",
       "         0.        ,  0.        ],\n",
       "       [-0.05628992, -0.65210106, -1.31354174, ...,  0.        ,\n",
       "         0.        ,  0.        ]])"
      ]
     },
     "execution_count": 543,
     "metadata": {},
     "output_type": "execute_result"
    }
   ],
   "source": [
    "X_train_processed"
   ]
  },
  {
   "cell_type": "code",
   "execution_count": 545,
   "id": "fe7d0a49-a1ca-48a1-aafe-97ce585c4e82",
   "metadata": {},
   "outputs": [],
   "source": [
    "# Define models\n",
    "models = {\n",
    "    \"Ridge Regression\": Ridge(alpha=10, random_state=42), # Alpha can be tuned\n",
    "    \"Random Forest\": RandomForestRegressor(n_estimators=100, random_state=42, n_jobs=-1, max_depth=15, min_samples_split=5, min_samples_leaf=3), # Example parameters, tuning needed\n",
    "    \"Gradient Boosting\": GradientBoostingRegressor(n_estimators=100, learning_rate=0.1, max_depth=3, random_state=42) # Example parameters\n",
    "}\n",
    "\n",
    "# Dictionary to store results\n",
    "results = {}"
   ]
  },
  {
   "cell_type": "code",
   "execution_count": 547,
   "id": "627f08f9-8319-49fa-9586-b287ebaa9d81",
   "metadata": {},
   "outputs": [
    {
     "name": "stdout",
     "output_type": "stream",
     "text": [
      "\n",
      "--- Model Training and Evaluation ---\n",
      "\n",
      "Training Ridge Regression...\n",
      "--- Results for Ridge Regression ---\n",
      "Validation RMSE (log scale): 0.23447\n",
      "Validation R-squared (log scale): 0.72286\n",
      "Validation MAE (log scale): 0.10207\n",
      "\n",
      "Training Random Forest...\n",
      "--- Results for Random Forest ---\n",
      "Validation RMSE (log scale): 0.22067\n",
      "Validation R-squared (log scale): 0.75452\n",
      "Validation MAE (log scale): 0.09726\n",
      "\n",
      "Training Gradient Boosting...\n",
      "--- Results for Gradient Boosting ---\n",
      "Validation RMSE (log scale): 0.22663\n",
      "Validation R-squared (log scale): 0.74107\n",
      "Validation MAE (log scale): 0.11034\n"
     ]
    }
   ],
   "source": [
    "print(\"\\n--- Model Training and Evaluation ---\")\n",
    "for name, model in models.items():\n",
    "    print(f\"\\nTraining {name}...\")\n",
    "    \n",
    "    # Train the model on processed training data and log-transformed target\n",
    "    model.fit(X_train_processed, y_train) # Use DataFrame or NumPy array\n",
    "\n",
    "    # Make predictions on the validation set (log scale)\n",
    "    y_pred_log_test = model.predict(X_test_processed) # Use DataFrame or NumPy array\n",
    "\n",
    "    # Evaluate using RMSE on the log scale (proxy for RMSLE)\n",
    "    rmse_log = np.sqrt(mean_squared_error(y_test, y_pred_log_test))\n",
    "    \n",
    "    # Also calculate R-squared and MAE on the log scale\n",
    "    r2_log = r2_score(y_val, y_pred_log_test)\n",
    "    mae_log = mean_absolute_error(y_val, y_pred_log_test)\n",
    "    results[name] = {\n",
    "        'model': model,\n",
    "        'RMSE_log': rmse_log,\n",
    "        'R2_log': r2_log,\n",
    "        'MAE_log': mae_log,\n",
    "        'y_pred_log_val': y_pred_log_test\n",
    "    }\n",
    "\n",
    "    print(f\"--- Results for {name} ---\")\n",
    "    print(f\"Validation RMSE (log scale): {rmse_log:.5f}\")\n",
    "    print(f\"Validation R-squared (log scale): {r2_log:.5f}\")\n",
    "    print(f\"Validation MAE (log scale): {mae_log:.5f}\")\n",
    "\n"
   ]
  },
  {
   "cell_type": "code",
   "execution_count": 548,
   "id": "6c724dc1-0ca6-48e2-afda-802d856e8ded",
   "metadata": {},
   "outputs": [
    {
     "name": "stdout",
     "output_type": "stream",
     "text": [
      "\n",
      "--- Model Comparison (Validation Set Performance) ---\n",
      "               Model  RMSE (log scale)  R-squared (log scale)  MAE (log scale)\n",
      "1      Random Forest          0.220670               0.754521         0.097261\n",
      "2  Gradient Boosting          0.226635               0.741070         0.110336\n",
      "0   Ridge Regression          0.234471               0.722855         0.102075\n"
     ]
    }
   ],
   "source": [
    "# Display comparison summary based on RMSE (log scale)\n",
    "print(\"\\n--- Model Comparison (Validation Set Performance) ---\")\n",
    "comparison_data = []\n",
    "for name, result in results.items():\n",
    "    comparison_data.append({\n",
    "        \"Model\": name,\n",
    "        \"RMSE (log scale)\": result['RMSE_log'],\n",
    "        \"R-squared (log scale)\": result['R2_log'],\n",
    "        \"MAE (log scale)\": result['MAE_log'],\n",
    "        # \"RMSLE (original scale)\": result.get('RMSLE', 'N/A') # Use .get for safety if RMSLE wasn't calculated\n",
    "    })\n",
    "\n",
    "comparison_df = pd.DataFrame(comparison_data)\n",
    "# Sort by RMSE (lower is better)\n",
    "print(comparison_df.sort_values(by='RMSE (log scale)', ascending=True))\n"
   ]
  },
  {
   "cell_type": "code",
   "execution_count": 549,
   "id": "27c21b90-f7e6-4611-87ae-c642e9deaf91",
   "metadata": {},
   "outputs": [
    {
     "name": "stdout",
     "output_type": "stream",
     "text": [
      "\n",
      "--- Plotting Actual vs Predicted for Best Model: Random Forest ---\n"
     ]
    },
    {
     "data": {
      "image/png": "[encoded data removed]",
      "text/plain": [
       "<Figure size 1000x1000 with 1 Axes>"
      ]
     },
     "metadata": {},
     "output_type": "display_data"
    }
   ],
   "source": [
    "# Plot Actual vs Predicted for the best model (example: find best based on RMSE_log)\n",
    "best_model_name = comparison_df.sort_values(by='RMSE (log scale)', ascending=True).iloc[0]['Model']\n",
    "best_model_preds = results[best_model_name]['y_pred_log_val']\n",
    "\n",
    "print(f\"\\n--- Plotting Actual vs Predicted for Best Model: {best_model_name} ---\")\n",
    "\n",
    "plt.figure(figsize=(10, 10))\n",
    "plt.scatter(y_val, best_model_preds, alpha=0.5)\n",
    "plt.plot([min(y_val), max(y_val)], [min(y_val), max(y_val)], '--', color='red', lw=2, label='Perfect Prediction')\n",
    "plt.xlabel(\"Actual Log(SalePrice + 1)\")\n",
    "plt.ylabel(\"Predicted Log(SalePrice + 1)\")\n",
    "plt.title(f\"Actual vs. Predicted Log Prices - {best_model_name}\")\n",
    "plt.legend()\n",
    "plt.grid(True)\n",
    "plt.show()"
   ]
  },
  {
   "cell_type": "code",
   "execution_count": 573,
   "id": "49def75b-8ff5-4fd5-9038-7172fa5feebf",
   "metadata": {},
   "outputs": [
    {
     "data": {
      "text/html": [
       "<style>#sk-container-id-4 {\n",
       "  /* Definition of color scheme common for light and dark mode */\n",
       "  --sklearn-color-text: black;\n",
       "  --sklearn-color-line: gray;\n",
       "  /* Definition of color scheme for unfitted estimators */\n",
       "  --sklearn-color-unfitted-level-0: #fff5e6;\n",
       "  --sklearn-color-unfitted-level-1: #f6e4d2;\n",
       "  --sklearn-color-unfitted-level-2: #ffe0b3;\n",
       "  --sklearn-color-unfitted-level-3: chocolate;\n",
       "  /* Definition of color scheme for fitted estimators */\n",
       "  --sklearn-color-fitted-level-0: #f0f8ff;\n",
       "  --sklearn-color-fitted-level-1: #d4ebff;\n",
       "  --sklearn-color-fitted-level-2: #b3dbfd;\n",
       "  --sklearn-color-fitted-level-3: cornflowerblue;\n",
       "\n",
       "  /* Specific color for light theme */\n",
       "  --sklearn-color-text-on-default-background: var(--sg-text-color, var(--theme-code-foreground, var(--jp-content-font-color1, black)));\n",
       "  --sklearn-color-background: var(--sg-background-color, var(--theme-background, var(--jp-layout-color0, white)));\n",
       "  --sklearn-color-border-box: var(--sg-text-color, var(--theme-code-foreground, var(--jp-content-font-color1, black)));\n",
       "  --sklearn-color-icon: #696969;\n",
       "\n",
       "  @media (prefers-color-scheme: dark) {\n",
       "    /* Redefinition of color scheme for dark theme */\n",
       "    --sklearn-color-text-on-default-background: var(--sg-text-color, var(--theme-code-foreground, var(--jp-content-font-color1, white)));\n",
       "    --sklearn-color-background: var(--sg-background-color, var(--theme-background, var(--jp-layout-color0, #111)));\n",
       "    --sklearn-color-border-box: var(--sg-text-color, var(--theme-code-foreground, var(--jp-content-font-color1, white)));\n",
       "    --sklearn-color-icon: #878787;\n",
       "  }\n",
       "}\n",
       "\n",
       "#sk-container-id-4 {\n",
       "  color: var(--sklearn-color-text);\n",
       "}\n",
       "\n",
       "#sk-container-id-4 pre {\n",
       "  padding: 0;\n",
       "}\n",
       "\n",
       "#sk-container-id-4 input.sk-hidden--visually {\n",
       "  border: 0;\n",
       "  clip: rect(1px 1px 1px 1px);\n",
       "  clip: rect(1px, 1px, 1px, 1px);\n",
       "  height: 1px;\n",
       "  margin: -1px;\n",
       "  overflow: hidden;\n",
       "  padding: 0;\n",
       "  position: absolute;\n",
       "  width: 1px;\n",
       "}\n",
       "\n",
       "#sk-container-id-4 div.sk-dashed-wrapped {\n",
       "  border: 1px dashed var(--sklearn-color-line);\n",
       "  margin: 0 0.4em 0.5em 0.4em;\n",
       "  box-sizing: border-box;\n",
       "  padding-bottom: 0.4em;\n",
       "  background-color: var(--sklearn-color-background);\n",
       "}\n",
       "\n",
       "#sk-container-id-4 div.sk-container {\n",
       "  /* jupyter's `normalize.less` sets `[hidden] { display: none; }`\n",
       "     but bootstrap.min.css set `[hidden] { display: none !important; }`\n",
       "     so we also need the `!important` here to be able to override the\n",
       "     default hidden behavior on the sphinx rendered scikit-learn.org.\n",
       "     See: https://github.com/scikit-learn/scikit-learn/issues/21755 */\n",
       "  display: inline-block !important;\n",
       "  position: relative;\n",
       "}\n",
       "\n",
       "#sk-container-id-4 div.sk-text-repr-fallback {\n",
       "  display: none;\n",
       "}\n",
       "\n",
       "div.sk-parallel-item,\n",
       "div.sk-serial,\n",
       "div.sk-item {\n",
       "  /* draw centered vertical line to link estimators */\n",
       "  background-image: linear-gradient(var(--sklearn-color-text-on-default-background), var(--sklearn-color-text-on-default-background));\n",
       "  background-size: 2px 100%;\n",
       "  background-repeat: no-repeat;\n",
       "  background-position: center center;\n",
       "}\n",
       "\n",
       "/* Parallel-specific style estimator block */\n",
       "\n",
       "#sk-container-id-4 div.sk-parallel-item::after {\n",
       "  content: \"\";\n",
       "  width: 100%;\n",
       "  border-bottom: 2px solid var(--sklearn-color-text-on-default-background);\n",
       "  flex-grow: 1;\n",
       "}\n",
       "\n",
       "#sk-container-id-4 div.sk-parallel {\n",
       "  display: flex;\n",
       "  align-items: stretch;\n",
       "  justify-content: center;\n",
       "  background-color: var(--sklearn-color-background);\n",
       "  position: relative;\n",
       "}\n",
       "\n",
       "#sk-container-id-4 div.sk-parallel-item {\n",
       "  display: flex;\n",
       "  flex-direction: column;\n",
       "}\n",
       "\n",
       "#sk-container-id-4 div.sk-parallel-item:first-child::after {\n",
       "  align-self: flex-end;\n",
       "  width: 50%;\n",
       "}\n",
       "\n",
       "#sk-container-id-4 div.sk-parallel-item:last-child::after {\n",
       "  align-self: flex-start;\n",
       "  width: 50%;\n",
       "}\n",
       "\n",
       "#sk-container-id-4 div.sk-parallel-item:only-child::after {\n",
       "  width: 0;\n",
       "}\n",
       "\n",
       "/* Serial-specific style estimator block */\n",
       "\n",
       "#sk-container-id-4 div.sk-serial {\n",
       "  display: flex;\n",
       "  flex-direction: column;\n",
       "  align-items: center;\n",
       "  background-color: var(--sklearn-color-background);\n",
       "  padding-right: 1em;\n",
       "  padding-left: 1em;\n",
       "}\n",
       "\n",
       "\n",
       "/* Toggleable style: style used for estimator/Pipeline/ColumnTransformer box that is\n",
       "clickable and can be expanded/collapsed.\n",
       "- Pipeline and ColumnTransformer use this feature and define the default style\n",
       "- Estimators will overwrite some part of the style using the `sk-estimator` class\n",
       "*/\n",
       "\n",
       "/* Pipeline and ColumnTransformer style (default) */\n",
       "\n",
       "#sk-container-id-4 div.sk-toggleable {\n",
       "  /* Default theme specific background. It is overwritten whether we have a\n",
       "  specific estimator or a Pipeline/ColumnTransformer */\n",
       "  background-color: var(--sklearn-color-background);\n",
       "}\n",
       "\n",
       "/* Toggleable label */\n",
       "#sk-container-id-4 label.sk-toggleable__label {\n",
       "  cursor: pointer;\n",
       "  display: block;\n",
       "  width: 100%;\n",
       "  margin-bottom: 0;\n",
       "  padding: 0.5em;\n",
       "  box-sizing: border-box;\n",
       "  text-align: center;\n",
       "}\n",
       "\n",
       "#sk-container-id-4 label.sk-toggleable__label-arrow:before {\n",
       "  /* Arrow on the left of the label */\n",
       "  content: \"▸\";\n",
       "  float: left;\n",
       "  margin-right: 0.25em;\n",
       "  color: var(--sklearn-color-icon);\n",
       "}\n",
       "\n",
       "#sk-container-id-4 label.sk-toggleable__label-arrow:hover:before {\n",
       "  color: var(--sklearn-color-text);\n",
       "}\n",
       "\n",
       "/* Toggleable content - dropdown */\n",
       "\n",
       "#sk-container-id-4 div.sk-toggleable__content {\n",
       "  max-height: 0;\n",
       "  max-width: 0;\n",
       "  overflow: hidden;\n",
       "  text-align: left;\n",
       "  /* unfitted */\n",
       "  background-color: var(--sklearn-color-unfitted-level-0);\n",
       "}\n",
       "\n",
       "#sk-container-id-4 div.sk-toggleable__content.fitted {\n",
       "  /* fitted */\n",
       "  background-color: var(--sklearn-color-fitted-level-0);\n",
       "}\n",
       "\n",
       "#sk-container-id-4 div.sk-toggleable__content pre {\n",
       "  margin: 0.2em;\n",
       "  border-radius: 0.25em;\n",
       "  color: var(--sklearn-color-text);\n",
       "  /* unfitted */\n",
       "  background-color: var(--sklearn-color-unfitted-level-0);\n",
       "}\n",
       "\n",
       "#sk-container-id-4 div.sk-toggleable__content.fitted pre {\n",
       "  /* unfitted */\n",
       "  background-color: var(--sklearn-color-fitted-level-0);\n",
       "}\n",
       "\n",
       "#sk-container-id-4 input.sk-toggleable__control:checked~div.sk-toggleable__content {\n",
       "  /* Expand drop-down */\n",
       "  max-height: 200px;\n",
       "  max-width: 100%;\n",
       "  overflow: auto;\n",
       "}\n",
       "\n",
       "#sk-container-id-4 input.sk-toggleable__control:checked~label.sk-toggleable__label-arrow:before {\n",
       "  content: \"▾\";\n",
       "}\n",
       "\n",
       "/* Pipeline/ColumnTransformer-specific style */\n",
       "\n",
       "#sk-container-id-4 div.sk-label input.sk-toggleable__control:checked~label.sk-toggleable__label {\n",
       "  color: var(--sklearn-color-text);\n",
       "  background-color: var(--sklearn-color-unfitted-level-2);\n",
       "}\n",
       "\n",
       "#sk-container-id-4 div.sk-label.fitted input.sk-toggleable__control:checked~label.sk-toggleable__label {\n",
       "  background-color: var(--sklearn-color-fitted-level-2);\n",
       "}\n",
       "\n",
       "/* Estimator-specific style */\n",
       "\n",
       "/* Colorize estimator box */\n",
       "#sk-container-id-4 div.sk-estimator input.sk-toggleable__control:checked~label.sk-toggleable__label {\n",
       "  /* unfitted */\n",
       "  background-color: var(--sklearn-color-unfitted-level-2);\n",
       "}\n",
       "\n",
       "#sk-container-id-4 div.sk-estimator.fitted input.sk-toggleable__control:checked~label.sk-toggleable__label {\n",
       "  /* fitted */\n",
       "  background-color: var(--sklearn-color-fitted-level-2);\n",
       "}\n",
       "\n",
       "#sk-container-id-4 div.sk-label label.sk-toggleable__label,\n",
       "#sk-container-id-4 div.sk-label label {\n",
       "  /* The background is the default theme color */\n",
       "  color: var(--sklearn-color-text-on-default-background);\n",
       "}\n",
       "\n",
       "/* On hover, darken the color of the background */\n",
       "#sk-container-id-4 div.sk-label:hover label.sk-toggleable__label {\n",
       "  color: var(--sklearn-color-text);\n",
       "  background-color: var(--sklearn-color-unfitted-level-2);\n",
       "}\n",
       "\n",
       "/* Label box, darken color on hover, fitted */\n",
       "#sk-container-id-4 div.sk-label.fitted:hover label.sk-toggleable__label.fitted {\n",
       "  color: var(--sklearn-color-text);\n",
       "  background-color: var(--sklearn-color-fitted-level-2);\n",
       "}\n",
       "\n",
       "/* Estimator label */\n",
       "\n",
       "#sk-container-id-4 div.sk-label label {\n",
       "  font-family: monospace;\n",
       "  font-weight: bold;\n",
       "  display: inline-block;\n",
       "  line-height: 1.2em;\n",
       "}\n",
       "\n",
       "#sk-container-id-4 div.sk-label-container {\n",
       "  text-align: center;\n",
       "}\n",
       "\n",
       "/* Estimator-specific */\n",
       "#sk-container-id-4 div.sk-estimator {\n",
       "  font-family: monospace;\n",
       "  border: 1px dotted var(--sklearn-color-border-box);\n",
       "  border-radius: 0.25em;\n",
       "  box-sizing: border-box;\n",
       "  margin-bottom: 0.5em;\n",
       "  /* unfitted */\n",
       "  background-color: var(--sklearn-color-unfitted-level-0);\n",
       "}\n",
       "\n",
       "#sk-container-id-4 div.sk-estimator.fitted {\n",
       "  /* fitted */\n",
       "  background-color: var(--sklearn-color-fitted-level-0);\n",
       "}\n",
       "\n",
       "/* on hover */\n",
       "#sk-container-id-4 div.sk-estimator:hover {\n",
       "  /* unfitted */\n",
       "  background-color: var(--sklearn-color-unfitted-level-2);\n",
       "}\n",
       "\n",
       "#sk-container-id-4 div.sk-estimator.fitted:hover {\n",
       "  /* fitted */\n",
       "  background-color: var(--sklearn-color-fitted-level-2);\n",
       "}\n",
       "\n",
       "/* Specification for estimator info (e.g. \"i\" and \"?\") */\n",
       "\n",
       "/* Common style for \"i\" and \"?\" */\n",
       "\n",
       ".sk-estimator-doc-link,\n",
       "a:link.sk-estimator-doc-link,\n",
       "a:visited.sk-estimator-doc-link {\n",
       "  float: right;\n",
       "  font-size: smaller;\n",
       "  line-height: 1em;\n",
       "  font-family: monospace;\n",
       "  background-color: var(--sklearn-color-background);\n",
       "  border-radius: 1em;\n",
       "  height: 1em;\n",
       "  width: 1em;\n",
       "  text-decoration: none !important;\n",
       "  margin-left: 1ex;\n",
       "  /* unfitted */\n",
       "  border: var(--sklearn-color-unfitted-level-1) 1pt solid;\n",
       "  color: var(--sklearn-color-unfitted-level-1);\n",
       "}\n",
       "\n",
       ".sk-estimator-doc-link.fitted,\n",
       "a:link.sk-estimator-doc-link.fitted,\n",
       "a:visited.sk-estimator-doc-link.fitted {\n",
       "  /* fitted */\n",
       "  border: var(--sklearn-color-fitted-level-1) 1pt solid;\n",
       "  color: var(--sklearn-color-fitted-level-1);\n",
       "}\n",
       "\n",
       "/* On hover */\n",
       "div.sk-estimator:hover .sk-estimator-doc-link:hover,\n",
       ".sk-estimator-doc-link:hover,\n",
       "div.sk-label-container:hover .sk-estimator-doc-link:hover,\n",
       ".sk-estimator-doc-link:hover {\n",
       "  /* unfitted */\n",
       "  background-color: var(--sklearn-color-unfitted-level-3);\n",
       "  color: var(--sklearn-color-background);\n",
       "  text-decoration: none;\n",
       "}\n",
       "\n",
       "div.sk-estimator.fitted:hover .sk-estimator-doc-link.fitted:hover,\n",
       ".sk-estimator-doc-link.fitted:hover,\n",
       "div.sk-label-container:hover .sk-estimator-doc-link.fitted:hover,\n",
       ".sk-estimator-doc-link.fitted:hover {\n",
       "  /* fitted */\n",
       "  background-color: var(--sklearn-color-fitted-level-3);\n",
       "  color: var(--sklearn-color-background);\n",
       "  text-decoration: none;\n",
       "}\n",
       "\n",
       "/* Span, style for the box shown on hovering the info icon */\n",
       ".sk-estimator-doc-link span {\n",
       "  display: none;\n",
       "  z-index: 9999;\n",
       "  position: relative;\n",
       "  font-weight: normal;\n",
       "  right: .2ex;\n",
       "  padding: .5ex;\n",
       "  margin: .5ex;\n",
       "  width: min-content;\n",
       "  min-width: 20ex;\n",
       "  max-width: 50ex;\n",
       "  color: var(--sklearn-color-text);\n",
       "  box-shadow: 2pt 2pt 4pt #999;\n",
       "  /* unfitted */\n",
       "  background: var(--sklearn-color-unfitted-level-0);\n",
       "  border: .5pt solid var(--sklearn-color-unfitted-level-3);\n",
       "}\n",
       "\n",
       ".sk-estimator-doc-link.fitted span {\n",
       "  /* fitted */\n",
       "  background: var(--sklearn-color-fitted-level-0);\n",
       "  border: var(--sklearn-color-fitted-level-3);\n",
       "}\n",
       "\n",
       ".sk-estimator-doc-link:hover span {\n",
       "  display: block;\n",
       "}\n",
       "\n",
       "/* \"?\"-specific style due to the `<a>` HTML tag */\n",
       "\n",
       "#sk-container-id-4 a.estimator_doc_link {\n",
       "  float: right;\n",
       "  font-size: 1rem;\n",
       "  line-height: 1em;\n",
       "  font-family: monospace;\n",
       "  background-color: var(--sklearn-color-background);\n",
       "  border-radius: 1rem;\n",
       "  height: 1rem;\n",
       "  width: 1rem;\n",
       "  text-decoration: none;\n",
       "  /* unfitted */\n",
       "  color: var(--sklearn-color-unfitted-level-1);\n",
       "  border: var(--sklearn-color-unfitted-level-1) 1pt solid;\n",
       "}\n",
       "\n",
       "#sk-container-id-4 a.estimator_doc_link.fitted {\n",
       "  /* fitted */\n",
       "  border: var(--sklearn-color-fitted-level-1) 1pt solid;\n",
       "  color: var(--sklearn-color-fitted-level-1);\n",
       "}\n",
       "\n",
       "/* On hover */\n",
       "#sk-container-id-4 a.estimator_doc_link:hover {\n",
       "  /* unfitted */\n",
       "  background-color: var(--sklearn-color-unfitted-level-3);\n",
       "  color: var(--sklearn-color-background);\n",
       "  text-decoration: none;\n",
       "}\n",
       "\n",
       "#sk-container-id-4 a.estimator_doc_link.fitted:hover {\n",
       "  /* fitted */\n",
       "  background-color: var(--sklearn-color-fitted-level-3);\n",
       "}\n",
       "</style><div id=\"sk-container-id-4\" class=\"sk-top-container\"><div class=\"sk-text-repr-fallback\"><pre>RandomForestRegressor(max_depth=15, min_samples_leaf=3, min_samples_split=5,\n",
       "                      n_jobs=-1, random_state=42)</pre><b>In a Jupyter environment, please rerun this cell to show the HTML representation or trust the notebook. <br />On GitHub, the HTML representation is unable to render, please try loading this page with nbviewer.org.</b></div><div class=\"sk-container\" hidden><div class=\"sk-item\"><div class=\"sk-estimator fitted sk-toggleable\"><input class=\"sk-toggleable__control sk-hidden--visually\" id=\"sk-estimator-id-4\" type=\"checkbox\" checked><label for=\"sk-estimator-id-4\" class=\"sk-toggleable__label fitted sk-toggleable__label-arrow fitted\">&nbsp;&nbsp;RandomForestRegressor<a class=\"sk-estimator-doc-link fitted\" rel=\"noreferrer\" target=\"_blank\" href=\"https://scikit-learn.org/1.5/modules/generated/sklearn.ensemble.RandomForestRegressor.html\">?<span>Documentation for RandomForestRegressor</span></a><span class=\"sk-estimator-doc-link fitted\">i<span>Fitted</span></span></label><div class=\"sk-toggleable__content fitted\"><pre>RandomForestRegressor(max_depth=15, min_samples_leaf=3, min_samples_split=5,\n",
       "                      n_jobs=-1, random_state=42)</pre></div> </div></div></div></div>"
      ],
      "text/plain": [
       "RandomForestRegressor(max_depth=15, min_samples_leaf=3, min_samples_split=5,\n",
       "                      n_jobs=-1, random_state=42)"
      ]
     },
     "execution_count": 573,
     "metadata": {},
     "output_type": "execute_result"
    }
   ],
   "source": [
    "predictionModel = models['Random Forest']\n",
    "predictionModel"
   ]
  },
  {
   "cell_type": "code",
   "execution_count": 583,
   "id": "b8590f38-eab2-44bd-a1bf-46dba53b8faa",
   "metadata": {},
   "outputs": [
    {
     "data": {
      "text/plain": [
       "array([11.94181838])"
      ]
     },
     "execution_count": 583,
     "metadata": {},
     "output_type": "execute_result"
    }
   ],
   "source": [
    "pickledModel.predict(X_test_processed[0].reshape(1,-1))"
   ]
  },
  {
   "cell_type": "code",
   "execution_count": 552,
   "id": "84ae4f71-9b70-4478-9e7b-139bd428db5e",
   "metadata": {},
   "outputs": [
    {
     "data": {
      "text/plain": [
       "9.99884318585288"
      ]
     },
     "execution_count": 552,
     "metadata": {},
     "output_type": "execute_result"
    }
   ],
   "source": [
    "y.min()"
   ]
  },
  {
   "cell_type": "code",
   "execution_count": 553,
   "id": "84607919-b5f3-45a9-8a42-c3f10ac37c2c",
   "metadata": {},
   "outputs": [
    {
     "data": {
      "text/plain": [
       "20.152960810870557"
      ]
     },
     "execution_count": 553,
     "metadata": {},
     "output_type": "execute_result"
    }
   ],
   "source": [
    "y.max()"
   ]
  },
  {
   "cell_type": "code",
   "execution_count": 554,
   "id": "62ae2af1-aa76-4a96-8639-febd5a1b8cfa",
   "metadata": {},
   "outputs": [
    {
     "data": {
      "text/plain": [
       "61948774.26698388"
      ]
     },
     "execution_count": 554,
     "metadata": {},
     "output_type": "execute_result"
    }
   ],
   "source": [
    "y_pred_actual = np.exp(17.94181838)\n",
    "y_pred_actual"
   ]
  },
  {
   "cell_type": "code",
   "execution_count": 555,
   "id": "d0239e4d-65d1-4dff-a6ae-58cb23bb0ab2",
   "metadata": {},
   "outputs": [
    {
     "data": {
      "text/plain": [
       "22000.0"
      ]
     },
     "execution_count": 555,
     "metadata": {},
     "output_type": "execute_result"
    }
   ],
   "source": [
    "dataset.price.min()"
   ]
  },
  {
   "cell_type": "code",
   "execution_count": 556,
   "id": "e266c88f-7b19-4b81-9af5-38acdd9feb7f",
   "metadata": {},
   "outputs": [
    {
     "data": {
      "text/plain": [
       "565352964.0"
      ]
     },
     "execution_count": 556,
     "metadata": {},
     "output_type": "execute_result"
    }
   ],
   "source": [
    "dataset.price.max()"
   ]
  },
  {
   "cell_type": "code",
   "execution_count": 567,
   "id": "267f6c55-59b3-455d-9df9-eaaec80f42b8",
   "metadata": {},
   "outputs": [],
   "source": [
    "#Pickling"
   ]
  },
  {
   "cell_type": "code",
   "execution_count": 571,
   "id": "a92de82f-ab88-4f5d-9e31-883aa4dd161b",
   "metadata": {},
   "outputs": [],
   "source": [
    "import pickle  "
   ]
  },
  {
   "cell_type": "code",
   "execution_count": 577,
   "id": "586a6b5c-f6b2-4f21-b4d7-7d1935507a28",
   "metadata": {},
   "outputs": [],
   "source": [
    "pickle.dump(predictionModel,open('pricePredModel.pkl','wb'))"
   ]
  },
  {
   "cell_type": "code",
   "execution_count": 581,
   "id": "a91762da-cfca-40a8-a4b5-0a3e41785b53",
   "metadata": {},
   "outputs": [],
   "source": [
    "pickledModel = pickle.load(open('pricePredModel.pkl','rb'))"
   ]
  },
  {
   "cell_type": "code",
   "execution_count": null,
   "id": "c862a9fb-64db-49c5-a6b7-64d6cc9a2710",
   "metadata": {},
   "outputs": [],
   "source": []
  }
 ],
 "metadata": {
  "kernelspec": {
   "display_name": "Python [conda env:base] *",
   "language": "python",
   "name": "conda-base-py"
  },
  "language_info": {
   "codemirror_mode": {
    "name": "ipython",
    "version": 3
   },
   "file_extension": ".py",
   "mimetype": "text/x-python",
   "name": "python",
   "nbconvert_exporter": "python",
   "pygments_lexer": "ipython3",
   "version": "3.12.7"
  }
 },
 "nbformat": 4,
 "nbformat_minor": 5
}
